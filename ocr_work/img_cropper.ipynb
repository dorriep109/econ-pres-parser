{
 "cells": [
  {
   "cell_type": "code",
   "execution_count": null,
   "id": "f65e3772",
   "metadata": {},
   "outputs": [],
   "source": [
    "import os\n",
    "base_path = './img'\n",
    "dirs = os.listdir(base_path)\n",
    "i=1\n",
    "for dir in dirs:\n",
    "    if 'archive' in dir:\n",
    "        files = os.listdir(os.path.join(base_path, dir))\n",
    "        for file in files:\n",
    "            name = 'page_'+str(i)+'.jpeg'\n",
    "            os.rename(os.path.join(base_path, dir, file), os.path.join(base_path, 'original', name))\n",
    "            i+=1"
   ]
  },
  {
   "cell_type": "code",
   "execution_count": 16,
   "id": "283a0d63",
   "metadata": {},
   "outputs": [],
   "source": [
    "from PIL import Image\n",
    "import os\n",
    "import shutil\n",
    "base_path = './img'\n",
    "\n",
    "def split(file, path):\n",
    "    dir_name = os.path.join(base_path, 'cropped')\n",
    "    img = Image.open(os.path.join(path, file)) \n",
    "    width, height = img.size\n",
    "    mid = (10*width)/19\n",
    "    left = img.crop((0, 0, mid, height))\n",
    "    right = img.crop((mid, 0, width, height))\n",
    "    left.save(os.path.join(dir_name, file.replace(\".jpeg\", \"\")+\"_left.jpeg\"))\n",
    "    right.save(os.path.join(dir_name, file.replace(\".jpeg\", \"\")+\"_right.jpeg\"))\n",
    "\n",
    "def rename (oldname, path):\n",
    "    dir_name = './reordered'\n",
    "    pagenum = oldname.split('_')[1]\n",
    "    ordernum='0'\n",
    "    num_correspondance = {1:101, 2:113, 3:124, 4:135, 5:146, 6:157, 7:168, 8:[169, 250], 9:[3,100], 10:[102,111], 11:[114,123], 12:[125,134], 13:[136,145], 14:[147,156], 15:[158,167],16:169, 17:251, 18:362, 19:424, 20:435, 21:446, 22:457, 23:468, 24:479, 25:490, 26:252, 27:263, 28:274, 29:285, 30:296, 31:307, 32:318, 33:329, 34:340, 35:351, 36:363, 37:374, 38:385, 39:396, 40:407, 41:418, 42:[420,423], 43:[425,434], 44:[436,445], 45:[447,456], 46:[458,467], 47:[469,478], 48:[480,489], 49:[491,500], 50:[253,262], 51:[264,273], 52:[275,284], 53:[286,295], 54:[297,306], 55:[308,317], 56:[319,328], 57:[330,339], 58:[341,350], 59:[352,361], 60:[364,373], 61:[375,384], 62:[386,394], 63:397, 64:[399,408], 65:409, 66:410, 67:[412,417], 68:419}\n",
    "    for key in num_correspondance:\n",
    "        item = num_correspondance[key]\n",
    "        if isinstance(item, int):\n",
    "            if (item == int(pagenum)):\n",
    "                ordernum=str(key)\n",
    "        if isinstance(item, list):\n",
    "            if (int(pagenum)>=item[0] and int(pagenum)<=item[1]):\n",
    "                ordernum=str(key)\n",
    "    newname=ordernum+oldname\n",
    "    shutil.copy(os.path.join(path, oldname), os.path.join(dir_name, newname))\n"
   ]
  },
  {
   "cell_type": "code",
   "execution_count": null,
   "id": "9c274758",
   "metadata": {},
   "outputs": [],
   "source": [
    "# base_path = './img'\n",
    "# path = os.path.join(base_path, 'original')\n",
    "# files = os.listdir(path)\n",
    "# for file in files:\n",
    "#     split(file, path)\n"
   ]
  },
  {
   "cell_type": "code",
   "execution_count": 17,
   "id": "d0c069b9",
   "metadata": {},
   "outputs": [],
   "source": [
    "path = './cleaned-tif-cropped-TST'\n",
    "files = os.listdir(path)\n",
    "for file in files:\n",
    "    rename(file, path)"
   ]
  }
 ],
 "metadata": {
  "kernelspec": {
   "display_name": "Python 3",
   "language": "python",
   "name": "python3"
  },
  "language_info": {
   "codemirror_mode": {
    "name": "ipython",
    "version": 3
   },
   "file_extension": ".py",
   "mimetype": "text/x-python",
   "name": "python",
   "nbconvert_exporter": "python",
   "pygments_lexer": "ipython3",
   "version": "3.12.10"
  }
 },
 "nbformat": 4,
 "nbformat_minor": 5
}
