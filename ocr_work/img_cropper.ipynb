{
 "cells": [
  {
   "cell_type": "code",
   "execution_count": null,
   "id": "f65e3772",
   "metadata": {},
   "outputs": [],
   "source": [
    "import os\n",
    "base_path = './img'\n",
    "dirs = os.listdir(base_path)\n",
    "i=1\n",
    "for dir in dirs:\n",
    "    if 'archive' in dir:\n",
    "        files = os.listdir(os.path.join(base_path, dir))\n",
    "        for file in files:\n",
    "            name = 'page_'+str(i)+'.jpeg'\n",
    "            os.rename(os.path.join(base_path, dir, file), os.path.join(base_path, 'original', name))\n",
    "            i+=1"
   ]
  },
  {
   "cell_type": "code",
   "execution_count": null,
   "id": "283a0d63",
   "metadata": {},
   "outputs": [],
   "source": [
    "from PIL import Image\n",
    "import os\n",
    "import shutil\n",
    "base_path = './img'\n",
    "\n",
    "def split(file, path):\n",
    "    dir_name = os.path.join(base_path, 'cropped')\n",
    "    img = Image.open(os.path.join(path, file)) \n",
    "    width, height = img.size\n",
    "    mid = (10*width)/19\n",
    "    left = img.crop((0, 0, mid, height))\n",
    "    right = img.crop((mid, 0, width, height))\n",
    "    left.save(os.path.join(dir_name, file.replace(\".jpeg\", \"\")+\"_left.jpeg\"))\n",
    "    right.save(os.path.join(dir_name, file.replace(\".jpeg\", \"\")+\"_right.jpeg\"))\n",
    "\n",
    "def rename (oldname, path):\n",
    "    dir_name = './reordered'\n",
    "    pagenum = oldname.split('_')[1]\n",
    "    ordernum='0'\n",
    "    num_correspondance = {1:101, 2:113, 3:124, 4:135, 5:146, 6:157, 7:168, 8:[169, 250], 9:[3,100], 10:[102,111], 11:[114,123], 12:[125,134], 13:[136,145], 14:[147,156], 15:[158,167],16:169, 17:251, 18:362, 19:424, 20:435, 21:446, 22:457, 23:468, 24:479, 25:490, 26:252, 27:263, 28:274, 29:285, 30:296, 31:307, 32:318, 33:329, 34:340, 35:351, 36:363, 37:374, 38:385, 39:396, 40:407, 41:418, 42:[420,423], 43:[425,434], 44:[436,445], 45:[447,456], 46:[458,467], 47:[469,478], 48:[480,489], 49:[491,500], 50:[253,262], 51:[264,273], 52:[275,284], 53:[286,295], 54:[297,306], 55:[308,317], 56:[319,328], 57:[330,339], 58:[341,350], 59:[352,361], 60:[364,373], 61:[375,384], 62:[386,394], 63:397, 64:[399,408], 65:409, 66:410, 67:[412,417], 68:419}\n",
    "    for key in num_correspondance:\n",
    "        item = num_correspondance[key]\n",
    "        if isinstance(item, int):\n",
    "            if (item == int(pagenum)):\n",
    "                ordernum=str(key)\n",
    "        if isinstance(item, list):\n",
    "            if (int(pagenum)>=item[0] and int(pagenum)<=item[1]):\n",
    "                ordernum=str(key)\n",
    "    newname=ordernum+oldname\n",
    "    shutil.copy(os.path.join(path, oldname), os.path.join(dir_name, newname))\n"
   ]
  },
  {
   "cell_type": "code",
   "execution_count": null,
   "id": "9c274758",
   "metadata": {},
   "outputs": [],
   "source": [
    "# base_path = './img'\n",
    "# path = os.path.join(base_path, 'original')\n",
    "# files = os.listdir(path)\n",
    "# for file in files:\n",
    "#     split(file, path)\n"
   ]
  },
  {
   "cell_type": "code",
   "execution_count": 14,
   "id": "d0c069b9",
   "metadata": {},
   "outputs": [
    {
     "ename": "IndexError",
     "evalue": "list index out of range",
     "output_type": "error",
     "traceback": [
      "\u001b[31m---------------------------------------------------------------------------\u001b[39m",
      "\u001b[31mIndexError\u001b[39m                                Traceback (most recent call last)",
      "\u001b[36mCell\u001b[39m\u001b[36m \u001b[39m\u001b[32mIn[14]\u001b[39m\u001b[32m, line 4\u001b[39m\n\u001b[32m      2\u001b[39m files = os.listdir(path)\n\u001b[32m      3\u001b[39m \u001b[38;5;28;01mfor\u001b[39;00m file \u001b[38;5;129;01min\u001b[39;00m files:\n\u001b[32m----> \u001b[39m\u001b[32m4\u001b[39m     \u001b[43mrename\u001b[49m\u001b[43m(\u001b[49m\u001b[43mfile\u001b[49m\u001b[43m,\u001b[49m\u001b[43m \u001b[49m\u001b[43mpath\u001b[49m\u001b[43m)\u001b[49m\n",
      "\u001b[36mCell\u001b[39m\u001b[36m \u001b[39m\u001b[32mIn[13]\u001b[39m\u001b[32m, line 18\u001b[39m, in \u001b[36mrename\u001b[39m\u001b[34m(oldname, path)\u001b[39m\n\u001b[32m     16\u001b[39m \u001b[38;5;28;01mdef\u001b[39;00m\u001b[38;5;250m \u001b[39m\u001b[34mrename\u001b[39m (oldname, path):\n\u001b[32m     17\u001b[39m     dir_name = \u001b[33m'\u001b[39m\u001b[33m./reordered\u001b[39m\u001b[33m'\u001b[39m\n\u001b[32m---> \u001b[39m\u001b[32m18\u001b[39m     pagenum = \u001b[43moldname\u001b[49m\u001b[43m.\u001b[49m\u001b[43msplit\u001b[49m\u001b[43m(\u001b[49m\u001b[33;43m'\u001b[39;49m\u001b[33;43m_\u001b[39;49m\u001b[33;43m'\u001b[39;49m\u001b[43m)\u001b[49m\u001b[43m[\u001b[49m\u001b[32;43m1\u001b[39;49m\u001b[43m]\u001b[49m\n\u001b[32m     19\u001b[39m     ordernum=\u001b[33m'\u001b[39m\u001b[33m0\u001b[39m\u001b[33m'\u001b[39m\n\u001b[32m     20\u001b[39m     num_correspondance = {\u001b[32m1\u001b[39m:\u001b[32m101\u001b[39m, \u001b[32m2\u001b[39m:\u001b[32m113\u001b[39m, \u001b[32m3\u001b[39m:\u001b[32m124\u001b[39m, \u001b[32m4\u001b[39m:\u001b[32m135\u001b[39m, \u001b[32m5\u001b[39m:\u001b[32m146\u001b[39m, \u001b[32m6\u001b[39m:\u001b[32m157\u001b[39m, \u001b[32m7\u001b[39m:\u001b[32m168\u001b[39m, \u001b[32m8\u001b[39m:[\u001b[32m169\u001b[39m, \u001b[32m250\u001b[39m], \u001b[32m9\u001b[39m:[\u001b[32m3\u001b[39m,\u001b[32m100\u001b[39m], \u001b[32m10\u001b[39m:[\u001b[32m102\u001b[39m,\u001b[32m111\u001b[39m], \u001b[32m11\u001b[39m:[\u001b[32m114\u001b[39m,\u001b[32m123\u001b[39m], \u001b[32m12\u001b[39m:[\u001b[32m125\u001b[39m,\u001b[32m134\u001b[39m], \u001b[32m13\u001b[39m:[\u001b[32m136\u001b[39m,\u001b[32m145\u001b[39m], \u001b[32m14\u001b[39m:[\u001b[32m147\u001b[39m,\u001b[32m156\u001b[39m], \u001b[32m15\u001b[39m:[\u001b[32m158\u001b[39m,\u001b[32m167\u001b[39m],\u001b[32m16\u001b[39m:\u001b[32m169\u001b[39m, \u001b[32m17\u001b[39m:\u001b[32m251\u001b[39m, \u001b[32m18\u001b[39m:\u001b[32m362\u001b[39m, \u001b[32m19\u001b[39m:\u001b[32m424\u001b[39m, \u001b[32m20\u001b[39m:\u001b[32m435\u001b[39m, \u001b[32m21\u001b[39m:\u001b[32m446\u001b[39m, \u001b[32m22\u001b[39m:\u001b[32m457\u001b[39m, \u001b[32m23\u001b[39m:\u001b[32m468\u001b[39m, \u001b[32m24\u001b[39m:\u001b[32m479\u001b[39m, \u001b[32m25\u001b[39m:\u001b[32m490\u001b[39m, \u001b[32m26\u001b[39m:\u001b[32m252\u001b[39m, \u001b[32m27\u001b[39m:\u001b[32m263\u001b[39m, \u001b[32m28\u001b[39m:\u001b[32m274\u001b[39m, \u001b[32m29\u001b[39m:\u001b[32m285\u001b[39m, \u001b[32m30\u001b[39m:\u001b[32m296\u001b[39m, \u001b[32m31\u001b[39m:\u001b[32m307\u001b[39m, \u001b[32m32\u001b[39m:\u001b[32m318\u001b[39m, \u001b[32m33\u001b[39m:\u001b[32m329\u001b[39m, \u001b[32m34\u001b[39m:\u001b[32m340\u001b[39m, \u001b[32m35\u001b[39m:\u001b[32m351\u001b[39m, \u001b[32m36\u001b[39m:\u001b[32m363\u001b[39m, \u001b[32m37\u001b[39m:\u001b[32m374\u001b[39m, \u001b[32m38\u001b[39m:\u001b[32m385\u001b[39m, \u001b[32m39\u001b[39m:\u001b[32m396\u001b[39m, \u001b[32m40\u001b[39m:\u001b[32m407\u001b[39m, \u001b[32m41\u001b[39m:\u001b[32m418\u001b[39m, \u001b[32m42\u001b[39m:[\u001b[32m420\u001b[39m,\u001b[32m423\u001b[39m], \u001b[32m43\u001b[39m:[\u001b[32m425\u001b[39m,\u001b[32m434\u001b[39m], \u001b[32m44\u001b[39m:[\u001b[32m436\u001b[39m,\u001b[32m445\u001b[39m], \u001b[32m45\u001b[39m:[\u001b[32m447\u001b[39m,\u001b[32m456\u001b[39m], \u001b[32m46\u001b[39m:[\u001b[32m458\u001b[39m,\u001b[32m467\u001b[39m], \u001b[32m47\u001b[39m:[\u001b[32m469\u001b[39m,\u001b[32m478\u001b[39m], \u001b[32m48\u001b[39m:[\u001b[32m480\u001b[39m,\u001b[32m489\u001b[39m], \u001b[32m49\u001b[39m:[\u001b[32m491\u001b[39m,\u001b[32m500\u001b[39m], \u001b[32m50\u001b[39m:[\u001b[32m253\u001b[39m,\u001b[32m262\u001b[39m], \u001b[32m51\u001b[39m:[\u001b[32m264\u001b[39m,\u001b[32m273\u001b[39m], \u001b[32m52\u001b[39m:[\u001b[32m275\u001b[39m,\u001b[32m284\u001b[39m], \u001b[32m53\u001b[39m:[\u001b[32m286\u001b[39m,\u001b[32m295\u001b[39m], \u001b[32m54\u001b[39m:[\u001b[32m297\u001b[39m,\u001b[32m306\u001b[39m], \u001b[32m55\u001b[39m:[\u001b[32m308\u001b[39m,\u001b[32m317\u001b[39m], \u001b[32m56\u001b[39m:[\u001b[32m319\u001b[39m,\u001b[32m328\u001b[39m], \u001b[32m57\u001b[39m:[\u001b[32m330\u001b[39m,\u001b[32m339\u001b[39m], \u001b[32m58\u001b[39m:[\u001b[32m341\u001b[39m,\u001b[32m350\u001b[39m], \u001b[32m59\u001b[39m:[\u001b[32m352\u001b[39m,\u001b[32m361\u001b[39m], \u001b[32m60\u001b[39m:[\u001b[32m364\u001b[39m,\u001b[32m373\u001b[39m], \u001b[32m61\u001b[39m:[\u001b[32m375\u001b[39m,\u001b[32m384\u001b[39m], \u001b[32m62\u001b[39m:[\u001b[32m386\u001b[39m,\u001b[32m394\u001b[39m], \u001b[32m63\u001b[39m:\u001b[32m397\u001b[39m, \u001b[32m64\u001b[39m:[\u001b[32m399\u001b[39m,\u001b[32m408\u001b[39m], \u001b[32m65\u001b[39m:\u001b[32m408\u001b[39m, \u001b[32m66\u001b[39m:\u001b[32m410\u001b[39m, \u001b[32m67\u001b[39m:[\u001b[32m412\u001b[39m,\u001b[32m417\u001b[39m], \u001b[32m68\u001b[39m:\u001b[32m419\u001b[39m}\n",
      "\u001b[31mIndexError\u001b[39m: list index out of range"
     ]
    }
   ],
   "source": [
    "path = './cleaned-tif-cropped-TST'\n",
    "files = os.listdir(path)\n",
    "for file in files:\n",
    "    rename(file, path)"
   ]
  }
 ],
 "metadata": {
  "kernelspec": {
   "display_name": "Python 3",
   "language": "python",
   "name": "python3"
  },
  "language_info": {
   "codemirror_mode": {
    "name": "ipython",
    "version": 3
   },
   "file_extension": ".py",
   "mimetype": "text/x-python",
   "name": "python",
   "nbconvert_exporter": "python",
   "pygments_lexer": "ipython3",
   "version": "3.12.10"
  }
 },
 "nbformat": 4,
 "nbformat_minor": 5
}
