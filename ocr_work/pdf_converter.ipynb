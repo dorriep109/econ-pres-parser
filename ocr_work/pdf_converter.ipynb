{
 "cells": [
  {
   "cell_type": "code",
   "execution_count": 2,
   "id": "a9bf3baf",
   "metadata": {},
   "outputs": [
    {
     "name": "stdout",
     "output_type": "stream",
     "text": [
      "Defaulting to user installation because normal site-packages is not writeable\n",
      "Requirement already satisfied: PyPDF2 in c:\\users\\dorot\\appdata\\local\\packages\\pythonsoftwarefoundation.python.3.12_qbz5n2kfra8p0\\localcache\\local-packages\\python312\\site-packages (3.0.1)\n",
      "Requirement already satisfied: Pillow in c:\\users\\dorot\\appdata\\local\\packages\\pythonsoftwarefoundation.python.3.12_qbz5n2kfra8p0\\localcache\\local-packages\\python312\\site-packages (11.2.1)\n",
      "Requirement already satisfied: pdf2image in c:\\users\\dorot\\appdata\\local\\packages\\pythonsoftwarefoundation.python.3.12_qbz5n2kfra8p0\\localcache\\local-packages\\python312\\site-packages (1.17.0)\n",
      "Defaulting to user installation because normal site-packages is not writeable\n",
      "Requirement already satisfied: poppler-utils in c:\\users\\dorot\\appdata\\local\\packages\\pythonsoftwarefoundation.python.3.12_qbz5n2kfra8p0\\localcache\\local-packages\\python312\\site-packages (0.1.0)\n",
      "Requirement already satisfied: Click>=7.0 in c:\\users\\dorot\\appdata\\local\\packages\\pythonsoftwarefoundation.python.3.12_qbz5n2kfra8p0\\localcache\\local-packages\\python312\\site-packages (from poppler-utils) (8.1.8)\n",
      "Requirement already satisfied: colorama in c:\\users\\dorot\\appdata\\local\\packages\\pythonsoftwarefoundation.python.3.12_qbz5n2kfra8p0\\localcache\\local-packages\\python312\\site-packages (from Click>=7.0->poppler-utils) (0.4.6)\n"
     ]
    }
   ],
   "source": [
    "!pip install PyPDF2 Pillow pdf2image\n",
    "!pip install poppler-utils"
   ]
  },
  {
   "cell_type": "code",
   "execution_count": 3,
   "id": "f60ff520",
   "metadata": {},
   "outputs": [
    {
     "name": "stdout",
     "output_type": "stream",
     "text": [
      "c:\\Users\\dorot\\OneDrive\\Desktop\\school\\wellesley\\econ\\ocr_work\n"
     ]
    }
   ],
   "source": [
    "import os\n",
    "print(os.getcwd())"
   ]
  },
  {
   "cell_type": "code",
   "execution_count": 4,
   "id": "86ccd174",
   "metadata": {},
   "outputs": [],
   "source": [
    "\n",
    "from pdf2image import convert_from_path\n",
    "import os\n",
    "\n",
    "def convert(input_path, output_path, lazy=True):\n",
    "    titles = os.listdir(input_path)\n",
    "    already_done = []\n",
    "    for a in os.listdir(output_path):\n",
    "        already_done.append(a+'.pdf')\n",
    "    for title in titles:\n",
    "        if lazy and (title not in already_done):\n",
    "            pdf_path = os.path.join(input_path, title)\n",
    "            # Output folder for images\n",
    "            output_folder = os.path.join(output_path, title)[:-4]\n",
    "            if not os.path.exists(output_folder):\n",
    "                os.makedirs(output_folder)\n",
    "\n",
    "            # Convert PDF pages to images\n",
    "            pages = convert_from_path(pdf_path, dpi=300)  # Adjust dpi for image quality\n",
    "            for i, page in enumerate(pages):\n",
    "                image_path = os.path.join(output_folder, f'page_{i + 1}.jpg')\n",
    "                page.save(image_path, 'JPEG')\n",
    "                print(f\"Saved {image_path}\")\n",
    "        print('finished converting '+title)"
   ]
  }
 ],
 "metadata": {
  "kernelspec": {
   "display_name": "Python 3",
   "language": "python",
   "name": "python3"
  },
  "language_info": {
   "codemirror_mode": {
    "name": "ipython",
    "version": 3
   },
   "file_extension": ".py",
   "mimetype": "text/x-python",
   "name": "python",
   "nbconvert_exporter": "python",
   "pygments_lexer": "ipython3",
   "version": "3.12.10"
  }
 },
 "nbformat": 4,
 "nbformat_minor": 5
}
