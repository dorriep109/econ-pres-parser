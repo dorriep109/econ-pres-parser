{
 "cells": [
  {
   "cell_type": "code",
   "execution_count": 65,
   "id": "f65e3772",
   "metadata": {},
   "outputs": [],
   "source": [
    "import os\n",
    "base_path = './img'\n",
    "dirs = os.listdir(base_path)\n",
    "i=1\n",
    "for dir in dirs:\n",
    "    if 'archive' in dir:\n",
    "        files = os.listdir(os.path.join(base_path, dir))\n",
    "        for file in files:\n",
    "            name = 'page_'+str(i)+'.jpeg'\n",
    "            os.rename(os.path.join(base_path, dir, file), os.path.join(base_path, 'original', name))\n",
    "            i+=1\n"
   ]
  },
  {
   "cell_type": "code",
   "execution_count": 66,
   "id": "283a0d63",
   "metadata": {},
   "outputs": [],
   "source": [
    "from PIL import Image\n",
    "def split(file, path):\n",
    "    dir_name = os.path.join(base_path, 'cropped')\n",
    "    img = Image.open(os.path.join(path, file)) \n",
    "    width, height = img.size\n",
    "    mid = (10*width)/19\n",
    "    left = img.crop((0, 0, mid, height))\n",
    "    right = img.crop((mid, 0, width, height))\n",
    "    left.save(os.path.join(dir_name, file.replace(\".jpeg\", \"\")+\"_left.jpeg\"))\n",
    "    right.save(os.path.join(dir_name, file.replace(\".jpeg\", \"\")+\"_right.jpeg\"))\n",
    "    \n",
    "\n",
    "\n",
    "\n"
   ]
  },
  {
   "cell_type": "code",
   "execution_count": 67,
   "id": "9c274758",
   "metadata": {},
   "outputs": [],
   "source": [
    "base_path = './img'\n",
    "path = os.path.join(base_path, 'original')\n",
    "files = os.listdir(path)\n",
    "for file in files:\n",
    "    split(file, path)\n"
   ]
  }
 ],
 "metadata": {
  "kernelspec": {
   "display_name": "Python 3",
   "language": "python",
   "name": "python3"
  },
  "language_info": {
   "codemirror_mode": {
    "name": "ipython",
    "version": 3
   },
   "file_extension": ".py",
   "mimetype": "text/x-python",
   "name": "python",
   "nbconvert_exporter": "python",
   "pygments_lexer": "ipython3",
   "version": "3.12.10"
  }
 },
 "nbformat": 4,
 "nbformat_minor": 5
}
